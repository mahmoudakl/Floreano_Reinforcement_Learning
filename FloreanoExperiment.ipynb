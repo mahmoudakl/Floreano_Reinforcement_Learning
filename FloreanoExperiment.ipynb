{
 "cells": [
  {
   "cell_type": "markdown",
   "metadata": {},
   "source": [
    "# Floreano Experiment in the NRP"
   ]
  },
  {
   "cell_type": "markdown",
   "metadata": {},
   "source": [
    "## Initialize the Virtual Coach with Storage Server credentials"
   ]
  },
  {
   "cell_type": "code",
   "execution_count": 1,
   "metadata": {},
   "outputs": [],
   "source": [
    "# disable global logging from the virtual coach\n",
    "import logging\n",
    "logging.disable(logging.INFO)\n",
    "logging.getLogger('rospy').propagate = False\n",
    "logging.getLogger('rosout').propagate = False"
   ]
  },
  {
   "cell_type": "code",
   "execution_count": 2,
   "metadata": {
    "scrolled": false
   },
   "outputs": [
    {
     "name": "stdout",
     "output_type": "stream",
     "text": [
      "WARNING: [2018-12-07 16:29:03,189 - VirtualCoach] No OIDC username supplied, simulation services will fail if OIDC is enabled in this environment (local).\n"
     ]
    }
   ],
   "source": [
    "import os\n",
    "import sys\n",
    "import time\n",
    "import pandas\n",
    "import shutil\n",
    "import plot_utils\n",
    "import evolution_utils\n",
    "\n",
    "import numpy as np\n",
    "import matplotlib.pyplot as plt\n",
    "from IPython.display import clear_output, display\n",
    "\n",
    "from hbp_nrp_virtual_coach.virtual_coach import VirtualCoach\n",
    "\n",
    "%matplotlib inline\n",
    "vc = VirtualCoach(environment='local', storage_username='nrpuser', storage_password='password')"
   ]
  },
  {
   "cell_type": "markdown",
   "metadata": {},
   "source": [
    "## Helper Functions\n",
    "Some helper functions to calculate the fitness function, plot the robot's trajectory and the wheel speeds. These functions are specific to this experiment."
   ]
  },
  {
   "cell_type": "code",
   "execution_count": 3,
   "metadata": {
    "scrolled": false
   },
   "outputs": [],
   "source": [
    "display_episode_tf = \"\"\"@nrp.Robot2Neuron()\n",
    "def display_episode_number(t):\n",
    "    clientLogger.advertise('%s')\n",
    "\"\"\""
   ]
  },
  {
   "cell_type": "markdown",
   "metadata": {},
   "source": [
    "## Run Experiment\n",
    "\n",
    "Run the evolutionary experiment after specifying the number of generations and individuals per generation"
   ]
  },
  {
   "cell_type": "code",
   "execution_count": 4,
   "metadata": {},
   "outputs": [],
   "source": [
    "class FloreanoExperiment(object):\n",
    "    \n",
    "    def __init__(self, experiment_name, population, generations):\n",
    "        self.experiment_name = experiment_name\n",
    "        self.experiment_dir = os.environ['HOME'] + '/.opt/nrpStorage/' + self.experiment_name\n",
    "        self.last_status = [None]\n",
    "        self.population = population\n",
    "        self.fitness_log = []\n",
    "        self.sim = None\n",
    "        self.started = False\n",
    "        self.generations = generations\n",
    "        self.sim_data = []\n",
    "\n",
    "        # create directories for each generation to store results in \n",
    "        for i in range(generations):\n",
    "            os.mkdir(self.experiment_dir + '/generation_{}'.format(i))\n",
    "\n",
    "    def wait_condition(self, timeout, condition):\n",
    "        start = time.time()\n",
    "        while time.time() < start + timeout:\n",
    "            time.sleep(0.25)\n",
    "            if condition(self.last_status[0]):\n",
    "                return\n",
    "        raise Exception('Condition check failed')\n",
    "\n",
    "    def on_status(self, status):\n",
    "        self.last_status[0] = status\n",
    "        \n",
    "    def save_simulation_data(self, generation, trial):\n",
    "        \"\"\"\n",
    "        Saves the simulation csv data to the respective individual's directory inside the\n",
    "        experiment's directory\n",
    "        \"\"\"\n",
    "        self.sim.save_csv()\n",
    "        csv_dir = [s for s in os.listdir(self.experiment_dir) if \"csv_records\" in s][0]\n",
    "        individual_dir = self.experiment_dir + '/generation_{}'.format(generation) + '/individual_{}'.format(trial)\n",
    "        shutil.move(self.experiment_dir + '/' + csv_dir, individual_dir)\n",
    "        np.save(individual_dir + '/genetic_string', self.population[trial])\n",
    "\n",
    "        wheel_speeds = evolution_utils.get_wheel_speeds(individual_dir)\n",
    "        np.save(individual_dir + '/wheel_speeds', wheel_speeds)\n",
    "        trajectory = evolution_utils.get_trajectory(individual_dir)\n",
    "        collision = evolution_utils.correct_for_collisions(individual_dir)\n",
    "        # plot trajectory, spikes and wheel speeds\n",
    "        plot_utils.plot_spikes(individual_dir)\n",
    "        plot_utils.plot_trajectory(individual_dir, trajectory)\n",
    "        plot_utils.plot_wheel_speeds(individual_dir, wheel_speeds)\n",
    "\n",
    "        # save fitness value\n",
    "        if collision:\n",
    "            fitness_value = -1\n",
    "        else:\n",
    "            fitness_value = evolution_utils.fitness_function(wheel_speeds)\n",
    "            print \"Fitness: {}\".format(fitness_value)\n",
    "        np.save(individual_dir + '/fitness_value', fitness_value)\n",
    "\n",
    "\n",
    "    def run_experiment(self):        \n",
    "        for i in range(self.generations):\n",
    "            try:\n",
    "                self.sim = vc.launch_experiment('floreano_0', server='localhost')\n",
    "            except:\n",
    "                time.sleep(1)\n",
    "            self.sim.register_status_callback(self.on_status)\n",
    "            \n",
    "            # Iterate over individuals in a population\n",
    "            for j in range(60):\n",
    "                clear_output(wait=True)\n",
    "                print \"Generation {}, Individual {}\".format(i, j)\n",
    "                genetic_string = ','.join(str(x) for x in self.population[j].ravel())\n",
    "                self.sim.edit_brain(evolution_utils.brain % genetic_string)\n",
    "                #self.sim.add_transfer_function(display_episode_tf % \"Generation {}, Individual {}\".format(i, j))\n",
    "                self.sim.start()\n",
    "                # run simulation for 40 seconds\n",
    "                self.wait_condition(10000, lambda x: x['simulationTime'] > 40)\n",
    "                self.sim.pause()\n",
    "                self.save_simulation_data(i, j)\n",
    "                self.sim.reset('full')\n",
    "                self.wait_condition(1000, lambda x: x['state'] == 'paused' and x['simulationTime'] == 0)\n",
    "            self.sim.stop()\n",
    "            evolution_utils.get_top_performers(self.experiment_dir + '/generation_{}'.format(i))\n",
    "            self.population = evolution_utils.evolve_new_generation(self.experiment_dir + '/generation_{}'.format(i))\n",
    "            file = open(\"data_dump.txt\",\"w\")\n",
    "            file.write(str(floreano_experiment.sim_data))\n",
    "            file.write(\"\\n\")\n",
    "            file.close()"
   ]
  },
  {
   "cell_type": "code",
   "execution_count": 5,
   "metadata": {
    "scrolled": true
   },
   "outputs": [
    {
     "name": "stdout",
     "output_type": "stream",
     "text": [
      "Generation 0, Individual 2\n",
      "400\n",
      "Fitness: 0.0\n"
     ]
    },
    {
     "ename": "IOError",
     "evalue": "[Errno 2] No such file or directory: '/home/akl-ma/.opt/nrpStorage/floreano_0/generation_0/individual_3/fitness_value.npy'",
     "output_type": "error",
     "traceback": [
      "\u001b[0;31m---------------------------------------------------------------------------\u001b[0m",
      "\u001b[0;31mIOError\u001b[0m                                   Traceback (most recent call last)",
      "\u001b[0;32m<ipython-input-5-2ab41d401b17>\u001b[0m in \u001b[0;36m<module>\u001b[0;34m()\u001b[0m\n\u001b[1;32m      1\u001b[0m \u001b[0mpopulation\u001b[0m \u001b[0;34m=\u001b[0m \u001b[0mnp\u001b[0m\u001b[0;34m.\u001b[0m\u001b[0mrandom\u001b[0m\u001b[0;34m.\u001b[0m\u001b[0mrandint\u001b[0m\u001b[0;34m(\u001b[0m\u001b[0;36m2\u001b[0m\u001b[0;34m,\u001b[0m \u001b[0msize\u001b[0m\u001b[0;34m=\u001b[0m\u001b[0;34m(\u001b[0m\u001b[0;36m60\u001b[0m\u001b[0;34m,\u001b[0m \u001b[0;36m10\u001b[0m\u001b[0;34m,\u001b[0m \u001b[0;36m29\u001b[0m\u001b[0;34m)\u001b[0m\u001b[0;34m)\u001b[0m \u001b[0;31m# random population of 10 binary genetic strings\u001b[0m\u001b[0;34m\u001b[0m\u001b[0m\n\u001b[1;32m      2\u001b[0m \u001b[0mfloreano_experiment\u001b[0m \u001b[0;34m=\u001b[0m \u001b[0mFloreanoExperiment\u001b[0m\u001b[0;34m(\u001b[0m\u001b[0;34m'floreano_0'\u001b[0m\u001b[0;34m,\u001b[0m \u001b[0mpopulation\u001b[0m\u001b[0;34m,\u001b[0m \u001b[0;36m30\u001b[0m\u001b[0;34m)\u001b[0m\u001b[0;34m\u001b[0m\u001b[0m\n\u001b[0;32m----> 3\u001b[0;31m \u001b[0mfloreano_experiment\u001b[0m\u001b[0;34m.\u001b[0m\u001b[0mrun_experiment\u001b[0m\u001b[0;34m(\u001b[0m\u001b[0;34m)\u001b[0m\u001b[0;34m\u001b[0m\u001b[0m\n\u001b[0m",
      "\u001b[0;32m<ipython-input-4-031543d0e0d1>\u001b[0m in \u001b[0;36mrun_experiment\u001b[0;34m(self)\u001b[0m\n\u001b[1;32m     79\u001b[0m                 \u001b[0mself\u001b[0m\u001b[0;34m.\u001b[0m\u001b[0mwait_condition\u001b[0m\u001b[0;34m(\u001b[0m\u001b[0;36m1000\u001b[0m\u001b[0;34m,\u001b[0m \u001b[0;32mlambda\u001b[0m \u001b[0mx\u001b[0m\u001b[0;34m:\u001b[0m \u001b[0mx\u001b[0m\u001b[0;34m[\u001b[0m\u001b[0;34m'state'\u001b[0m\u001b[0;34m]\u001b[0m \u001b[0;34m==\u001b[0m \u001b[0;34m'paused'\u001b[0m \u001b[0;32mand\u001b[0m \u001b[0mx\u001b[0m\u001b[0;34m[\u001b[0m\u001b[0;34m'simulationTime'\u001b[0m\u001b[0;34m]\u001b[0m \u001b[0;34m==\u001b[0m \u001b[0;36m0\u001b[0m\u001b[0;34m)\u001b[0m\u001b[0;34m\u001b[0m\u001b[0m\n\u001b[1;32m     80\u001b[0m             \u001b[0mself\u001b[0m\u001b[0;34m.\u001b[0m\u001b[0msim\u001b[0m\u001b[0;34m.\u001b[0m\u001b[0mstop\u001b[0m\u001b[0;34m(\u001b[0m\u001b[0;34m)\u001b[0m\u001b[0;34m\u001b[0m\u001b[0m\n\u001b[0;32m---> 81\u001b[0;31m             \u001b[0mevolution_utils\u001b[0m\u001b[0;34m.\u001b[0m\u001b[0mget_top_performers\u001b[0m\u001b[0;34m(\u001b[0m\u001b[0mself\u001b[0m\u001b[0;34m.\u001b[0m\u001b[0mexperiment_dir\u001b[0m \u001b[0;34m+\u001b[0m \u001b[0;34m'/generation_{}'\u001b[0m\u001b[0;34m.\u001b[0m\u001b[0mformat\u001b[0m\u001b[0;34m(\u001b[0m\u001b[0mi\u001b[0m\u001b[0;34m)\u001b[0m\u001b[0;34m,\u001b[0m \u001b[0mnum_performers\u001b[0m\u001b[0;34m=\u001b[0m\u001b[0;36m3\u001b[0m\u001b[0;34m)\u001b[0m\u001b[0;34m\u001b[0m\u001b[0m\n\u001b[0m\u001b[1;32m     82\u001b[0m             \u001b[0mself\u001b[0m\u001b[0;34m.\u001b[0m\u001b[0mpopulation\u001b[0m \u001b[0;34m=\u001b[0m \u001b[0mevolution_utils\u001b[0m\u001b[0;34m.\u001b[0m\u001b[0mevolve_new_generation\u001b[0m\u001b[0;34m(\u001b[0m\u001b[0mself\u001b[0m\u001b[0;34m.\u001b[0m\u001b[0mexperiment_dir\u001b[0m \u001b[0;34m+\u001b[0m \u001b[0;34m'/generation_{}'\u001b[0m\u001b[0;34m.\u001b[0m\u001b[0mformat\u001b[0m\u001b[0;34m(\u001b[0m\u001b[0mi\u001b[0m\u001b[0;34m)\u001b[0m\u001b[0;34m)\u001b[0m\u001b[0;34m\u001b[0m\u001b[0m\n\u001b[1;32m     83\u001b[0m             \u001b[0mfile\u001b[0m \u001b[0;34m=\u001b[0m \u001b[0mopen\u001b[0m\u001b[0;34m(\u001b[0m\u001b[0;34m\"data_dump.txt\"\u001b[0m\u001b[0;34m,\u001b[0m\u001b[0;34m\"w\"\u001b[0m\u001b[0;34m)\u001b[0m\u001b[0;34m\u001b[0m\u001b[0m\n",
      "\u001b[0;32m/home/akl-ma/Dropbox/TUM/PhD/projects/floreano_experiment/Floreano_Reinforcement_Learning/evolution_utils.pyc\u001b[0m in \u001b[0;36mget_top_performers\u001b[0;34m(generation_dir, num_performers)\u001b[0m\n\u001b[1;32m     51\u001b[0m     \u001b[0;32mfor\u001b[0m \u001b[0mi\u001b[0m \u001b[0;32min\u001b[0m \u001b[0mrange\u001b[0m\u001b[0;34m(\u001b[0m\u001b[0;36m60\u001b[0m\u001b[0;34m)\u001b[0m\u001b[0;34m:\u001b[0m\u001b[0;34m\u001b[0m\u001b[0m\n\u001b[1;32m     52\u001b[0m         fitness_log.append(np.load(generation_dir + '/individual_{}'.format(i)\n\u001b[0;32m---> 53\u001b[0;31m             + '/fitness_value.npy'))\n\u001b[0m\u001b[1;32m     54\u001b[0m \u001b[0;34m\u001b[0m\u001b[0m\n\u001b[1;32m     55\u001b[0m     \u001b[0;31m# save generation average fitness value\u001b[0m\u001b[0;34m\u001b[0m\u001b[0;34m\u001b[0m\u001b[0m\n",
      "\u001b[0;32m/home/akl-ma/.opt/platform_venv/lib/python2.7/site-packages/numpy/lib/npyio.pyc\u001b[0m in \u001b[0;36mload\u001b[0;34m(file, mmap_mode, allow_pickle, fix_imports, encoding)\u001b[0m\n\u001b[1;32m    382\u001b[0m     \u001b[0mown_fid\u001b[0m \u001b[0;34m=\u001b[0m \u001b[0mFalse\u001b[0m\u001b[0;34m\u001b[0m\u001b[0m\n\u001b[1;32m    383\u001b[0m     \u001b[0;32mif\u001b[0m \u001b[0misinstance\u001b[0m\u001b[0;34m(\u001b[0m\u001b[0mfile\u001b[0m\u001b[0;34m,\u001b[0m \u001b[0mbasestring\u001b[0m\u001b[0;34m)\u001b[0m\u001b[0;34m:\u001b[0m\u001b[0;34m\u001b[0m\u001b[0m\n\u001b[0;32m--> 384\u001b[0;31m         \u001b[0mfid\u001b[0m \u001b[0;34m=\u001b[0m \u001b[0mopen\u001b[0m\u001b[0;34m(\u001b[0m\u001b[0mfile\u001b[0m\u001b[0;34m,\u001b[0m \u001b[0;34m\"rb\"\u001b[0m\u001b[0;34m)\u001b[0m\u001b[0;34m\u001b[0m\u001b[0m\n\u001b[0m\u001b[1;32m    385\u001b[0m         \u001b[0mown_fid\u001b[0m \u001b[0;34m=\u001b[0m \u001b[0mTrue\u001b[0m\u001b[0;34m\u001b[0m\u001b[0m\n\u001b[1;32m    386\u001b[0m     \u001b[0;32melif\u001b[0m \u001b[0mis_pathlib_path\u001b[0m\u001b[0;34m(\u001b[0m\u001b[0mfile\u001b[0m\u001b[0;34m)\u001b[0m\u001b[0;34m:\u001b[0m\u001b[0;34m\u001b[0m\u001b[0m\n",
      "\u001b[0;31mIOError\u001b[0m: [Errno 2] No such file or directory: '/home/akl-ma/.opt/nrpStorage/floreano_0/generation_0/individual_3/fitness_value.npy'"
     ]
    }
   ],
   "source": [
    "population = np.random.randint(2, size=(60, 10, 29)) # random population of 10 binary genetic strings\n",
    "floreano_experiment = FloreanoExperiment('floreano_0', population, 30)\n",
    "floreano_experiment.run_experiment()"
   ]
  },
  {
   "cell_type": "markdown",
   "metadata": {},
   "source": [
    "## Analyze Experiment Results"
   ]
  },
  {
   "cell_type": "code",
   "execution_count": null,
   "metadata": {},
   "outputs": [],
   "source": [
    "fig, axes = plt.subplots(len(floreano_experiment.sim_data), 2)\n",
    "for i in range(len(floreano_experiment.sim_data)):\n",
    "    axes[i, 0].set_ylim(-3, 3)\n",
    "    axes[i, 0].set_xlim(-3.9, 3.9)\n",
    "    axes[i, 0].set_xticks([], [])\n",
    "    axes[i, 0].set_yticks([], [])\n",
    "    x_axis = [x[0] for x in floreano_experiment.sim_data[i]['trajectory'][2:]]\n",
    "    y_axis = [y[1] for y in floreano_experiment.sim_data[i]['trajectory'][2:]]\n",
    "    axes[i, 0].plot([float(x) for x in x_axis], [float(y) for y in y_axis])\n",
    "\n",
    "    left_wheel = ([float(t[1]) for t in floreano_experiment.sim_data[i]['wheel_speeds'][2:]])\n",
    "    right_wheel = ([float(t[2]) for t in floreano_experiment.sim_data[i]['wheel_speeds'][2:]])\n",
    "    axes[i, 1].plot(range(len(left_wheel)), left_wheel, 'b', label='Left Wheel')\n",
    "    axes[i, 1].plot(range(len(right_wheel)), right_wheel, 'r', label='Right Wheel')\n",
    "    axes[i, 1].set_ylim(-5, 5)\n",
    "    axes[i, 1].set_xlabel('Time [ms]')\n",
    "    axes[i, 1].set_ylabel('Speed m/s')\n",
    "\n",
    "axes[0, 0].set_title('Robot Trajectory')\n",
    "axes[0, 1].set_title('Wheel Speeds')\n",
    "fig.set_figheight(25)\n",
    "fig.set_figwidth(10)"
   ]
  }
 ],
 "metadata": {
  "kernelspec": {
   "display_name": "Python 2",
   "language": "python",
   "name": "python2"
  },
  "language_info": {
   "codemirror_mode": {
    "name": "ipython",
    "version": 2
   },
   "file_extension": ".py",
   "mimetype": "text/x-python",
   "name": "python",
   "nbconvert_exporter": "python",
   "pygments_lexer": "ipython2",
   "version": "2.7.12"
  }
 },
 "nbformat": 4,
 "nbformat_minor": 2
}
