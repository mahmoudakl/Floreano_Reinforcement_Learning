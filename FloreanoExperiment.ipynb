{
 "cells": [
  {
   "cell_type": "markdown",
   "metadata": {},
   "source": [
    "# Floreano Experiment in the NRP"
   ]
  },
  {
   "cell_type": "markdown",
   "metadata": {},
   "source": [
    "## Initialize the Virtual Coach with Storage Server credentials"
   ]
  },
  {
   "cell_type": "code",
   "execution_count": 1,
   "metadata": {},
   "outputs": [],
   "source": [
    "# disable global logging from the virtual coach\n",
    "import logging\n",
    "logging.disable(logging.INFO)\n",
    "logging.getLogger('rospy').propagate = False\n",
    "logging.getLogger('rosout').propagate = False"
   ]
  },
  {
   "cell_type": "code",
   "execution_count": 2,
   "metadata": {
    "scrolled": false
   },
   "outputs": [
    {
     "name": "stdout",
     "output_type": "stream",
     "text": [
      "WARNING: [2018-11-20 12:17:42,745 - VirtualCoach] No OIDC username supplied, simulation services will fail if OIDC is enabled in this environment (local).\n"
     ]
    }
   ],
   "source": [
    "import os\n",
    "import sys\n",
    "import time\n",
    "import pandas\n",
    "import shutil\n",
    "import plot_utils\n",
    "import evolution_utils\n",
    "\n",
    "import numpy as np\n",
    "import matplotlib.pyplot as plt\n",
    "\n",
    "from hbp_nrp_virtual_coach.virtual_coach import VirtualCoach\n",
    "\n",
    "%matplotlib inline\n",
    "vc = VirtualCoach(environment='local', storage_username='nrpuser', storage_password='password')"
   ]
  },
  {
   "cell_type": "markdown",
   "metadata": {},
   "source": [
    "## Helper Functions\n",
    "Some helper functions to calculate the fitness function, plot the robot's trajectory and the wheel speeds. These functions are specific to this experiment."
   ]
  },
  {
   "cell_type": "code",
   "execution_count": 3,
   "metadata": {
    "scrolled": false
   },
   "outputs": [],
   "source": [
    "display_episode_tf = \"\"\"@nrp.Robot2Neuron()\n",
    "def display_episode_number(t):\n",
    "    clientLogger.advertise('%s')\n",
    "\"\"\""
   ]
  },
  {
   "cell_type": "markdown",
   "metadata": {},
   "source": [
    "## Run Experiment\n",
    "\n",
    "Run the evolutionary experiment after specifying the number of generations and individuals per generation"
   ]
  },
  {
   "cell_type": "code",
   "execution_count": 4,
   "metadata": {},
   "outputs": [],
   "source": [
    "class FloreanoExperiment(object):\n",
    "    \n",
    "    def __init__(self, experiment_name, population, generations):\n",
    "        self.experiment_name = experiment_name\n",
    "        self.experiment_dir = os.environ['HOME'] + '/.opt/nrpStorage/' + self.experiment_name\n",
    "        self.last_status = [None]\n",
    "        self.population = population\n",
    "        self.fitness_log = []\n",
    "        self.sim = None\n",
    "        self.started = False\n",
    "        self.generations = generations\n",
    "        self.sim_data = []\n",
    "\n",
    "        # create directories for each generation to store results in \n",
    "        for i in range(generations):\n",
    "            os.mkdir(self.experiment_dir + '/generation_{}'.format(i))\n",
    "\n",
    "    def wait_condition(self, timeout, condition):\n",
    "        start = time.time()\n",
    "        while time.time() < start + timeout:\n",
    "            time.sleep(0.25)\n",
    "            if condition(self.last_status[0]):\n",
    "                return\n",
    "        raise Exception('Condition check failed')\n",
    "\n",
    "    def on_status(self, status):\n",
    "        self.last_status[0] = status\n",
    "        \n",
    "    def save_simulation_data(self, generation, trial):\n",
    "        \"\"\"\n",
    "        Saves the simulation csv data to the respective individual's directory inside the\n",
    "        experiment's directory\n",
    "        \"\"\"\n",
    "        self.sim.save_csv()\n",
    "        csv_dir = [s for s in os.listdir(self.experiment_dir) if \"csv_records\" in s][0]\n",
    "        individual_dir = self.experiment_dir + '/generation_{}'.format(generation) + '/individual_{}'.format(trial)\n",
    "        shutil.move(self.experiment_dir + '/' + csv_dir, individual_dir)\n",
    "        np.save(individual_dir + '/genetic_string', self.population[trial])\n",
    "\n",
    "        wheel_speeds = evolution_utils.get_wheel_speeds(individual_dir)\n",
    "        np.save(individual_dir + '/wheel_speeds', wheel_speeds)\n",
    "        trajectory = evolution_utils.get_trajectory(individual_dir)\n",
    "        collision = evolution_utils.correct_for_collisions(individual_dir)\n",
    "        # plot trajectory, spikes and wheel speeds\n",
    "        plot_utils.plot_spikes(individual_dir)\n",
    "        plot_utils.plot_trajectory(individual_dir, trajectory)\n",
    "        plot_utils.plot_wheel_speeds(individual_dir, wheel_speeds)\n",
    "\n",
    "        # save fitness value\n",
    "        if collision:\n",
    "            fitness_value = -1\n",
    "        else:\n",
    "            fitness_value = evolution_utils.fitness_function(wheel_speeds)\n",
    "        np.save(individual_dir + '/fitness_value', fitness_value)\n",
    "\n",
    "\n",
    "    def run_experiment(self):\n",
    "        try:\n",
    "            self.sim = vc.launch_experiment('floreano_0')\n",
    "        except:\n",
    "            time.sleep(1)\n",
    "        self.sim.register_status_callback(self.on_status)\n",
    "        for i in range(self.generations):\n",
    "            for j in range(60):\n",
    "                print \"Generation {}, Individual {}\".format(i, j),\n",
    "                sys.stdout.flush()\n",
    "                genetic_string = ','.join(str(x) for x in population[j].ravel())\n",
    "                self.sim.edit_brain(evolution_utils.brain % genetic_string)\n",
    "                self.sim.add_transfer_function(display_episode_tf % \"Generation {}, Individual {}\".format(i, j))\n",
    "                self.sim.start()\n",
    "                # run simulation for 40 seconds\n",
    "                self.wait_condition(10000, lambda x: x['simulationTime'] > 40)\n",
    "                self.sim.pause()\n",
    "                self.save_simulation_data(i, j)\n",
    "                self.sim.reset('full')\n",
    "                self.wait_condition(1000, lambda x: x['state'] == 'paused' and x['simulationTime'] == 0)\n",
    "            evolution_utils.get_top_performers(self.experiment_dir + '/generation_{}'.format(i))\n",
    "            self.population = evolution_utils.evolve_new_generation(self.experiment_dir + '/generation_{}'.format(i))\n",
    "            file = open(\"data_dump.txt\",\"w\")\n",
    "            file.write(str(floreano_experiment.sim_data))\n",
    "            file.write(\"\\n\")\n",
    "            file.close()"
   ]
  },
  {
   "cell_type": "code",
   "execution_count": null,
   "metadata": {
    "scrolled": true
   },
   "outputs": [
    {
     "name": "stdout",
     "output_type": "stream",
     "text": [
      "[{u'gzweb': {u'assets': u'http://localhost:8080/assets',\n",
      "             u'nrp-services': u'http://localhost:8080',\n",
      "             u'videoStreaming': u'http://localhost:8080/webstream/',\n",
      "             u'websocket': u'ws://localhost:8080/gzbridge'},\n",
      "  u'id': u'localhost',\n",
      "  u'rosbridge': {u'websocket': u'ws://localhost:8080/rosbridge'},\n",
      "  u'serverJobLocation': u'local'}]\n",
      "Generation 0, Individual 0 400\n",
      "Generation 0, Individual 1 Generation 0, Individual 2 Generation 0, Individual 3 400\n",
      "Generation 0, Individual 4 400\n",
      "Generation 0, Individual 5 400\n",
      "Generation 0, Individual 6 400\n",
      "Generation 0, Individual 7 400\n",
      "Generation 0, Individual 8 400\n",
      "Generation 0, Individual 9 400\n",
      "Generation 0, Individual 10 Generation 0, Individual 11 400\n",
      "Generation 0, Individual 12 400\n",
      "Generation 0, Individual 13 400\n",
      "Generation 0, Individual 14 400\n",
      "Generation 0, Individual 15 400\n",
      "Generation 0, Individual 16 400\n",
      "Generation 0, Individual 17 400\n",
      "Generation 0, Individual 18 400\n",
      "Generation 0, Individual 19 400\n",
      "Generation 0, Individual 20 Generation 0, Individual 21 400\n",
      "Generation 0, Individual 22 400\n",
      "Generation 0, Individual 23 400\n",
      "Generation 0, Individual 24 400\n",
      "Generation 0, Individual 25 400\n",
      "Generation 0, Individual 26 Generation 0, Individual 27 400\n",
      "Generation 0, Individual 28 400\n",
      "Generation 0, Individual 29 400\n",
      "Generation 0, Individual 30 400\n",
      "Generation 0, Individual 31 400\n",
      "Generation 0, Individual 32 Generation 0, Individual 33 400\n",
      "Generation 0, Individual 34 400\n",
      "Generation 0, Individual 35 400\n",
      "Generation 0, Individual 36 400\n",
      "Generation 0, Individual 37 400\n",
      "Generation 0, Individual 38 400\n",
      "Generation 0, Individual 39 400\n",
      "Generation 0, Individual 40 400\n",
      "Generation 0, Individual 41 400\n",
      "Generation 0, Individual 42 400\n",
      "Generation 0, Individual 43 400\n",
      "Generation 0, Individual 44 400\n",
      "Generation 0, Individual 45 400\n",
      "Generation 0, Individual 46 400\n",
      "Generation 0, Individual 47 400\n",
      "Generation 0, Individual 48 400\n",
      "Generation 0, Individual 49 Generation 0, Individual 50 400\n",
      "Generation 0, Individual 51 400\n",
      "Generation 0, Individual 52 400\n",
      "Generation 0, Individual 53 400\n",
      "Generation 0, Individual 54 400\n",
      "Generation 0, Individual 55 400\n",
      "Generation 0, Individual 56 400\n",
      "Generation 0, Individual 57 400\n",
      "Generation 0, Individual 58 400\n",
      "Generation 0, Individual 59 400\n",
      "Generation 1, Individual 0 400\n",
      "Generation 1, Individual 1"
     ]
    }
   ],
   "source": [
    "population = np.random.randint(2, size=(60, 10, 29)) # random population of 10 binary genetic strings\n",
    "floreano_experiment = FloreanoExperiment('floreano_0', population, 30)\n",
    "floreano_experiment.run_experiment()"
   ]
  },
  {
   "cell_type": "markdown",
   "metadata": {},
   "source": [
    "## Analyze Experiment Results"
   ]
  },
  {
   "cell_type": "code",
   "execution_count": null,
   "metadata": {},
   "outputs": [],
   "source": [
    "fig, axes = plt.subplots(len(floreano_experiment.sim_data), 2)\n",
    "for i in range(len(floreano_experiment.sim_data)):\n",
    "    axes[i, 0].set_ylim(-3, 3)\n",
    "    axes[i, 0].set_xlim(-3.9, 3.9)\n",
    "    axes[i, 0].set_xticks([], [])\n",
    "    axes[i, 0].set_yticks([], [])\n",
    "    x_axis = [x[0] for x in floreano_experiment.sim_data[i]['trajectory'][2:]]\n",
    "    y_axis = [y[1] for y in floreano_experiment.sim_data[i]['trajectory'][2:]]\n",
    "    axes[i, 0].plot([float(x) for x in x_axis], [float(y) for y in y_axis])\n",
    "\n",
    "    left_wheel = ([float(t[1]) for t in floreano_experiment.sim_data[i]['wheel_speeds'][2:]])\n",
    "    right_wheel = ([float(t[2]) for t in floreano_experiment.sim_data[i]['wheel_speeds'][2:]])\n",
    "    axes[i, 1].plot(range(len(left_wheel)), left_wheel, 'b', label='Left Wheel')\n",
    "    axes[i, 1].plot(range(len(right_wheel)), right_wheel, 'r', label='Right Wheel')\n",
    "    axes[i, 1].set_ylim(-5, 5)\n",
    "    axes[i, 1].set_xlabel('Time [ms]')\n",
    "    axes[i, 1].set_ylabel('Speed m/s')\n",
    "\n",
    "axes[0, 0].set_title('Robot Trajectory')\n",
    "axes[0, 1].set_title('Wheel Speeds')\n",
    "fig.set_figheight(25)\n",
    "fig.set_figwidth(10)"
   ]
  }
 ],
 "metadata": {
  "kernelspec": {
   "display_name": "Python 2",
   "language": "python",
   "name": "python2"
  },
  "language_info": {
   "codemirror_mode": {
    "name": "ipython",
    "version": 2
   },
   "file_extension": ".py",
   "mimetype": "text/x-python",
   "name": "python",
   "nbconvert_exporter": "python",
   "pygments_lexer": "ipython2",
   "version": "2.7.12"
  }
 },
 "nbformat": 4,
 "nbformat_minor": 2
}
