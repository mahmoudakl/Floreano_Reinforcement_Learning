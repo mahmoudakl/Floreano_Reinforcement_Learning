{
 "cells": [
  {
   "cell_type": "markdown",
   "metadata": {},
   "source": [
    "# Floreano Experiment in the NRP"
   ]
  },
  {
   "cell_type": "markdown",
   "metadata": {},
   "source": [
    "## Initialize the Virtual Coach with Storage Server credentials"
   ]
  },
  {
   "cell_type": "code",
   "execution_count": null,
   "metadata": {},
   "outputs": [],
   "source": [
    "# disable global logging from the virtual coach\n",
    "import logging\n",
    "logging.disable(logging.INFO)\n",
    "logging.getLogger('rospy').propagate = False\n",
    "logging.getLogger('rosout').propagate = False"
   ]
  },
  {
   "cell_type": "code",
   "execution_count": null,
   "metadata": {
    "scrolled": false
   },
   "outputs": [],
   "source": [
    "import os\n",
    "import sys\n",
    "import time\n",
    "import pandas\n",
    "import shutil\n",
    "import plot_utils\n",
    "import evolution_utils\n",
    "\n",
    "import numpy as np\n",
    "import matplotlib.pyplot as plt\n",
    "\n",
    "from hbp_nrp_virtual_coach.virtual_coach import VirtualCoach\n",
    "\n",
    "%matplotlib inline\n",
    "vc = VirtualCoach(environment='cn1', storage_username='nrpuser', storage_password='password')"
   ]
  },
  {
   "cell_type": "markdown",
   "metadata": {},
   "source": [
    "## Helper Functions\n",
    "Some helper functions to calculate the fitness function, plot the robot's trajectory and the wheel speeds. These functions are specific to this experiment."
   ]
  },
  {
   "cell_type": "code",
   "execution_count": null,
   "metadata": {
    "scrolled": false
   },
   "outputs": [],
   "source": [
    "display_episode_tf = \"\"\"@nrp.Robot2Neuron()\n",
    "def display_episode_number(t):\n",
    "    clientLogger.advertise('%s')\n",
    "\"\"\""
   ]
  },
  {
   "cell_type": "markdown",
   "metadata": {},
   "source": [
    "## Run Experiment\n",
    "\n",
    "Run the evolutionary experiment after specifying the number of generations and individuals per generation"
   ]
  },
  {
   "cell_type": "code",
   "execution_count": null,
   "metadata": {},
   "outputs": [],
   "source": [
    "class FloreanoExperiment(object):\n",
    "    \n",
    "    def __init__(self, experiment_name, population, generations):\n",
    "        self.experiment_name = experiment_name\n",
    "        self.experiment_dir = os.environ['HOME'] + '/.opt/nrpStorage/' + self.experiment_name\n",
    "        self.last_status = [None]\n",
    "        self.population = population\n",
    "        self.fitness_log = []\n",
    "        self.sim = None\n",
    "        self.started = False\n",
    "        self.generations = generations\n",
    "        self.sim_data = []\n",
    "\n",
    "        # create directories for each generation to store results in \n",
    "        for i in range(generations):\n",
    "            os.mkdir(self.experiment_dir + '/generation_{}'.format(i))\n",
    "\n",
    "    def wait_condition(self, timeout, condition):\n",
    "        start = time.time()\n",
    "        while time.time() < start + timeout:\n",
    "            time.sleep(0.25)\n",
    "            if condition(self.last_status[0]):\n",
    "                return\n",
    "        raise Exception('Condition check failed')\n",
    "\n",
    "    def on_status(self, status):\n",
    "        self.last_status[0] = status\n",
    "        \n",
    "    def save_simulation_data(self, generation, trial):\n",
    "        \"\"\"\n",
    "        Saves the simulation csv data to the respective individual's directory inside the\n",
    "        experiment's directory\n",
    "        \"\"\"\n",
    "        self.sim.save_csv()\n",
    "        csv_dir = [s for s in os.listdir(self.experiment_dir) if \"csv_records\" in s][0]\n",
    "        individual_dir = self.experiment_dir + '/generation_{}'.format(generation) + '/individual_{}'.format(trial)\n",
    "        shutil.move(self.experiment_dir + '/' + csv_dir, individual_dir)\n",
    "        np.save(individual_dir + '/genetic_string', self.population[trial])\n",
    "\n",
    "        wheel_speeds = evolution_utils.get_wheel_speeds(individual_dir)\n",
    "        np.save(individual_dir + '/wheel_speeds', wheel_speeds)\n",
    "        trajectory = evolution_utils.get_trajectory(individual_dir)\n",
    "        collision = evolution_utils.correct_for_collisions(individual_dir)\n",
    "        # plot trajectory, spikes and wheel speeds\n",
    "        plot_utils.plot_spikes(individual_dir)\n",
    "        plot_utils.plot_trajectory(individual_dir, trajectory)\n",
    "        plot_utils.plot_wheel_speeds(individual_dir, wheel_speeds)\n",
    "\n",
    "        # save fitness value\n",
    "        if collision:\n",
    "            fitness_value = -1\n",
    "        else:\n",
    "            fitness_value = evolution_utils.fitness_function(wheel_speeds)\n",
    "            print \"Fitness: {}\".format(fitness_value)\n",
    "        np.save(individual_dir + '/fitness_value', fitness_value)\n",
    "\n",
    "\n",
    "    def run_experiment(self):\n",
    "        try:\n",
    "            self.sim = vc.launch_experiment('floreano_0')\n",
    "        except:\n",
    "            time.sleep(1)\n",
    "        self.sim.register_status_callback(self.on_status)\n",
    "        for i in range(self.generations):\n",
    "            for j in range(60):\n",
    "                print \"Generation {}, Individual {}\".format(i, j),\n",
    "                sys.stdout.flush()\n",
    "                genetic_string = ','.join(str(x) for x in population[j].ravel())\n",
    "                self.sim.edit_brain(evolution_utils.brain % genetic_string)\n",
    "                self.sim.add_transfer_function(display_episode_tf % \"Generation {}, Individual {}\".format(i, j))\n",
    "                self.sim.start()\n",
    "                # run simulation for 40 seconds\n",
    "                self.wait_condition(10000, lambda x: x['simulationTime'] > 40)\n",
    "                self.sim.pause()\n",
    "                self.save_simulation_data(i, j)\n",
    "                self.sim.reset('full')\n",
    "                self.wait_condition(1000, lambda x: x['state'] == 'paused' and x['simulationTime'] == 0)\n",
    "            evolution_utils.get_top_performers(self.experiment_dir + '/generation_{}'.format(i))\n",
    "            self.population = evolution_utils.evolve_new_generation(self.experiment_dir + '/generation_{}'.format(i))\n",
    "            file = open(\"data_dump.txt\",\"w\")\n",
    "            file.write(str(floreano_experiment.sim_data))\n",
    "            file.write(\"\\n\")\n",
    "            file.close()"
   ]
  },
  {
   "cell_type": "code",
   "execution_count": null,
   "metadata": {
    "scrolled": true
   },
   "outputs": [],
   "source": [
    "population = np.random.randint(2, size=(60, 10, 29)) # random population of 10 binary genetic strings\n",
    "floreano_experiment = FloreanoExperiment('floreano_0', population, 30)\n",
    "floreano_experiment.run_experiment()"
   ]
  },
  {
   "cell_type": "markdown",
   "metadata": {},
   "source": [
    "## Analyze Experiment Results"
   ]
  },
  {
   "cell_type": "code",
   "execution_count": null,
   "metadata": {},
   "outputs": [],
   "source": [
    "fig, axes = plt.subplots(len(floreano_experiment.sim_data), 2)\n",
    "for i in range(len(floreano_experiment.sim_data)):\n",
    "    axes[i, 0].set_ylim(-3, 3)\n",
    "    axes[i, 0].set_xlim(-3.9, 3.9)\n",
    "    axes[i, 0].set_xticks([], [])\n",
    "    axes[i, 0].set_yticks([], [])\n",
    "    x_axis = [x[0] for x in floreano_experiment.sim_data[i]['trajectory'][2:]]\n",
    "    y_axis = [y[1] for y in floreano_experiment.sim_data[i]['trajectory'][2:]]\n",
    "    axes[i, 0].plot([float(x) for x in x_axis], [float(y) for y in y_axis])\n",
    "\n",
    "    left_wheel = ([float(t[1]) for t in floreano_experiment.sim_data[i]['wheel_speeds'][2:]])\n",
    "    right_wheel = ([float(t[2]) for t in floreano_experiment.sim_data[i]['wheel_speeds'][2:]])\n",
    "    axes[i, 1].plot(range(len(left_wheel)), left_wheel, 'b', label='Left Wheel')\n",
    "    axes[i, 1].plot(range(len(right_wheel)), right_wheel, 'r', label='Right Wheel')\n",
    "    axes[i, 1].set_ylim(-5, 5)\n",
    "    axes[i, 1].set_xlabel('Time [ms]')\n",
    "    axes[i, 1].set_ylabel('Speed m/s')\n",
    "\n",
    "axes[0, 0].set_title('Robot Trajectory')\n",
    "axes[0, 1].set_title('Wheel Speeds')\n",
    "fig.set_figheight(25)\n",
    "fig.set_figwidth(10)"
   ]
  }
 ],
 "metadata": {
  "kernelspec": {
   "display_name": "Python 2",
   "language": "python",
   "name": "python2"
  },
  "language_info": {
   "codemirror_mode": {
    "name": "ipython",
    "version": 2
   },
   "file_extension": ".py",
   "mimetype": "text/x-python",
   "name": "python",
   "nbconvert_exporter": "python",
   "pygments_lexer": "ipython2",
   "version": "2.7.12"
  }
 },
 "nbformat": 4,
 "nbformat_minor": 2
}
