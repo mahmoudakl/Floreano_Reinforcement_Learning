{
 "cells": [
  {
   "cell_type": "markdown",
   "metadata": {},
   "source": [
    "# Floreano Experiment in the NRP"
   ]
  },
  {
   "cell_type": "markdown",
   "metadata": {},
   "source": [
    "## Initialize the Virtual Coach with Storage Server credentials"
   ]
  },
  {
   "cell_type": "code",
   "execution_count": null,
   "metadata": {},
   "outputs": [],
   "source": [
    "# disable global logging from the virtual coach\n",
    "import logging\n",
    "logging.disable(logging.INFO)\n",
    "logging.getLogger('rospy').propagate = False\n",
    "logging.getLogger('rosout').propagate = False"
   ]
  },
  {
   "cell_type": "code",
   "execution_count": null,
   "metadata": {
    "scrolled": false
   },
   "outputs": [],
   "source": [
    "import os\n",
    "import sys\n",
    "import time\n",
    "import pandas\n",
    "import shutil\n",
    "import plot_utils\n",
    "import evolution_utils\n",
    "\n",
    "import numpy as np\n",
    "import matplotlib.pyplot as plt\n",
    "from IPython.display import clear_output, display\n",
    "\n",
    "from hbp_nrp_virtual_coach.virtual_coach import VirtualCoach\n",
    "\n",
    "%matplotlib inline\n",
    "vc = VirtualCoach(environment='local', storage_username='nrpuser', storage_password='password')"
   ]
  },
  {
   "cell_type": "markdown",
   "metadata": {},
   "source": [
    "## Helper Functions\n",
    "Some helper functions to calculate the fitness function, plot the robot's trajectory and the wheel speeds. These functions are specific to this experiment."
   ]
  },
  {
   "cell_type": "code",
   "execution_count": null,
   "metadata": {
    "scrolled": false
   },
   "outputs": [],
   "source": [
    "display_episode_tf = \"\"\"@nrp.Robot2Neuron()\n",
    "def display_episode_number(t):\n",
    "    clientLogger.advertise('%s')\n",
    "\"\"\""
   ]
  },
  {
   "cell_type": "markdown",
   "metadata": {},
   "source": [
    "## Run Experiment\n",
    "\n",
    "Run the evolutionary experiment after specifying the number of generations and individuals per generation"
   ]
  },
  {
   "cell_type": "code",
   "execution_count": null,
   "metadata": {},
   "outputs": [],
   "source": [
    "class FloreanoExperiment(object):\n",
    "    \n",
    "    def __init__(self, experiment_name, population, generations):\n",
    "        self.experiment_name = experiment_name\n",
    "        self.experiment_dir = os.environ['HOME'] + '/.opt/nrpStorage/' + self.experiment_name\n",
    "        self.last_status = [None]\n",
    "        self.fitness_log = []\n",
    "        self.sim = None\n",
    "        self.generations = generations\n",
    "        \n",
    "        # Check if evolutionary experiment has been run before\n",
    "        # If yes, load previously evolved population and continue\n",
    "        previous_generations = [s for s in os.listdir(self.experiment_dir) if \"generation\" in s]\n",
    "        previous_generations.sort()\n",
    "        if len(previous_generations) == 0:\n",
    "            self.population = population\n",
    "            self.cur_gen = 0\n",
    "        else:\n",
    "            last_gen_dir = self.experiment_dir + '/' + previous_generations[-1]\n",
    "            # current generation number\n",
    "            self.cur_gen = int(previous_generations[-1].split('_')[1])\n",
    "            individuals = [s for s in os.listdir(last_gen_dir) if \"individual\" in s]\n",
    "            # If generation has not been fully simulated, delete it and start from the previous one\n",
    "            if len(individuals) > 60:\n",
    "                self.population = evolution_utils.evolve_new_generation(last_gen_dir)\n",
    "                self.cur_gen += 1\n",
    "            else:\n",
    "                shutil.rmtree(last_gen_dir)\n",
    "                # If there's only one incomplete generation, start over\n",
    "                if self.cur_gen < 0:\n",
    "                    self.population = population\n",
    "                else:\n",
    "                    last_gen_dir = self.experiment_dir + '/generation_{}'.format((self.cur_gen - 1)) \n",
    "                    self.population = evolution_utils.evolve_new_generation(last_gen_dir)\n",
    "\n",
    "    def wait_for_localhost(self, timeout):\n",
    "        \"\"\"\n",
    "        helper method that waits for the localhost server to be available\n",
    "        again after stopping a simulation\n",
    "        \"\"\"\n",
    "        start = time.time()\n",
    "        while time.time() < start + timeout:\n",
    "            time.sleep(2)\n",
    "            if 'localhost' in vc.print_available_servers():\n",
    "                return\n",
    "        raise Excpetion('Cannot find Localhost')\n",
    "\n",
    "    def wait_condition(self, timeout, condition):\n",
    "        \"\"\"\n",
    "        Helper method that blocks for the timeout specified, until the condition\n",
    "        given has been fulfilled\n",
    "        \"\"\"\n",
    "        start = time.time()\n",
    "        while time.time() < start + timeout:\n",
    "            time.sleep(1)\n",
    "            if self.last_status[0] is not None:\n",
    "                if condition(self.last_status[0]):\n",
    "                    return\n",
    "        raise Exception('Condition check failed')\n",
    "\n",
    "    def on_status(self, status):\n",
    "        \"\"\"Prepends the most recent ROS status message to the last_status array\"\"\"\n",
    "        self.last_status[0] = status\n",
    "        \n",
    "    def save_simulation_data(self, generation, trial):\n",
    "        \"\"\"\n",
    "        Saves the simulation csv data to the respective individual's directory inside the\n",
    "        experiment's directory\n",
    "        \"\"\"\n",
    "        self.sim.save_csv()\n",
    "        csv_dir = [s for s in os.listdir(self.experiment_dir) if \"csv_records\" in s][0]\n",
    "        individual_dir = self.experiment_dir + '/generation_{}'.format(generation) + '/individual_{}'.format(trial)\n",
    "        shutil.move(self.experiment_dir + '/' + csv_dir, individual_dir)\n",
    "        np.save(individual_dir + '/genetic_string', self.population[trial])\n",
    "\n",
    "        wheel_speeds = evolution_utils.get_wheel_speeds(individual_dir)\n",
    "        np.save(individual_dir + '/wheel_speeds', wheel_speeds)\n",
    "        trajectory = evolution_utils.get_trajectory(individual_dir)\n",
    "        collision = evolution_utils.correct_for_collisions(individual_dir)\n",
    "\n",
    "        # save fitness value\n",
    "        if collision:\n",
    "            fitness_value = -1\n",
    "        else:\n",
    "            fitness_value = evolution_utils.fitness_function(wheel_speeds)\n",
    "        print \"Fitness: {}\".format(fitness_value)\n",
    "        np.save(individual_dir + '/fitness_value', fitness_value)\n",
    "\n",
    "\n",
    "    def run_experiment(self):\n",
    "        # launch experiment and register status callback\n",
    "        self.sim = vc.launch_experiment('floreano_0', server='localhost')\n",
    "        self.sim.register_status_callback(self.on_status)\n",
    "\n",
    "        for i in range(self.cur_gen, self.generations):    \n",
    "            # Create directory for generation data\n",
    "            os.mkdir(self.experiment_dir + '/generation_{}'.format(i))\n",
    "            \n",
    "            # Iterate over individuals in a population\n",
    "            for j in range(60):\n",
    "                clear_output(wait=True)\n",
    "                print \"Generation {}, Individual {}\".format(i, j)\n",
    "                genetic_string = ','.join(str(x) for x in self.population[j].ravel())\n",
    "                self.sim.edit_brain(evolution_utils.brain % genetic_string)\n",
    "                #self.sim.add_transfer_function(display_episode_tf % \"Generation {}, Individual {}\".format(i, j))\n",
    "                self.sim.start()\n",
    "                \n",
    "                # run simulation for 40 seconds\n",
    "                self.wait_condition(10000, lambda x: x['simulationTime'] > 40)\n",
    "                self.sim.pause()\n",
    "                self.save_simulation_data(i, j)\n",
    "                start = time.time()\n",
    "                self.sim.reset('full')\n",
    "                print \"Reset Time: {}\".format(time.time() - start)\n",
    "                self.wait_condition(1000, lambda x: x['state'] == 'paused' and x['simulationTime'] == 0)\n",
    "\n",
    "            evolution_utils.get_top_performers(self.experiment_dir + '/generation_{}'.format(i))\n",
    "            self.population = evolution_utils.evolve_new_generation(self.experiment_dir + '/generation_{}'.format(i))"
   ]
  },
  {
   "cell_type": "code",
   "execution_count": null,
   "metadata": {
    "scrolled": true
   },
   "outputs": [],
   "source": [
    "population = np.random.randint(2, size=(60, 10, 29)) # random population of 10 binary genetic strings\n",
    "floreano_experiment = FloreanoExperiment('floreano_0', population, 30)\n",
    "floreano_experiment.run_experiment()"
   ]
  },
  {
   "cell_type": "markdown",
   "metadata": {},
   "source": [
    "## Plot the saved csv data and save the plots"
   ]
  },
  {
   "cell_type": "code",
   "execution_count": null,
   "metadata": {},
   "outputs": [],
   "source": [
    "plot_utils.plot_spikes(individual_dir)\n",
    "plot_utils.plot_trajectory(individual_dir, trajectory)\n",
    "plot_utils.plot_wheel_speeds(individual_dir, wheel_speeds)"
   ]
  }
 ],
 "metadata": {
  "kernelspec": {
   "display_name": "Python 2",
   "language": "python",
   "name": "python2"
  },
  "language_info": {
   "codemirror_mode": {
    "name": "ipython",
    "version": 2
   },
   "file_extension": ".py",
   "mimetype": "text/x-python",
   "name": "python",
   "nbconvert_exporter": "python",
   "pygments_lexer": "ipython2",
   "version": "2.7.12"
  }
 },
 "nbformat": 4,
 "nbformat_minor": 2
}
